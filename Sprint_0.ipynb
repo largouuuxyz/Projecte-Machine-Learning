{
 "cells": [
  {
   "cell_type": "code",
   "execution_count": null,
   "id": "9ac311be-1662-4717-bcba-ccc2a765b5f3",
   "metadata": {},
   "outputs": [],
   "source": [
    "# **Tasca 6**"
   ]
  },
  {
   "cell_type": "code",
   "execution_count": null,
   "id": "b49e206c-03aa-4d3e-83b3-36cfaf83252a",
   "metadata": {},
   "outputs": [],
   "source": [
    "## Suma"
   ]
  },
  {
   "cell_type": "code",
   "execution_count": 1,
   "id": "726542ac-34bf-438c-bf47-da5a251ea240",
   "metadata": {},
   "outputs": [
    {
     "data": {
      "text/plain": [
       "8"
      ]
     },
     "execution_count": 1,
     "metadata": {},
     "output_type": "execute_result"
    }
   ],
   "source": [
    "4 + 4"
   ]
  },
  {
   "cell_type": "code",
   "execution_count": null,
   "id": "ecc398ad-5233-4377-ac69-70df2b2ba485",
   "metadata": {},
   "outputs": [],
   "source": [
    "## Resta"
   ]
  },
  {
   "cell_type": "code",
   "execution_count": 2,
   "id": "25d2e6d5-c5f5-49f1-b57c-4f055c37216d",
   "metadata": {},
   "outputs": [
    {
     "data": {
      "text/plain": [
       "2"
      ]
     },
     "execution_count": 2,
     "metadata": {},
     "output_type": "execute_result"
    }
   ],
   "source": [
    "4 - 2"
   ]
  },
  {
   "cell_type": "code",
   "execution_count": null,
   "id": "22101a74-0006-4b81-b25f-282f4ad1889a",
   "metadata": {},
   "outputs": [],
   "source": [
    "## Producte"
   ]
  },
  {
   "cell_type": "code",
   "execution_count": 3,
   "id": "04c69ba5-4c00-419a-a6fb-df71a4058294",
   "metadata": {},
   "outputs": [
    {
     "data": {
      "text/plain": [
       "8"
      ]
     },
     "execution_count": 3,
     "metadata": {},
     "output_type": "execute_result"
    }
   ],
   "source": [
    "4 * 2"
   ]
  },
  {
   "cell_type": "code",
   "execution_count": null,
   "id": "1d27e971-d40b-407d-9a79-6ff7a1b7dd5a",
   "metadata": {},
   "outputs": [],
   "source": [
    "## Divisió"
   ]
  },
  {
   "cell_type": "code",
   "execution_count": 4,
   "id": "5be7faf3-6f53-4ff5-9259-dbd244ed5ec1",
   "metadata": {},
   "outputs": [
    {
     "data": {
      "text/plain": [
       "2.0"
      ]
     },
     "execution_count": 4,
     "metadata": {},
     "output_type": "execute_result"
    }
   ],
   "source": [
    "4 / 2"
   ]
  },
  {
   "cell_type": "code",
   "execution_count": 6,
   "id": "366458eb-a619-47e6-9c93-67f5d2732e36",
   "metadata": {},
   "outputs": [
    {
     "name": "stdout",
     "output_type": "stream",
     "text": [
      "2.0\n"
     ]
    }
   ],
   "source": [
    "variable = 4/2\n",
    "print(variable)"
   ]
  },
  {
   "cell_type": "code",
   "execution_count": 7,
   "id": "8735fa98-1709-4243-b576-3ac8438f3142",
   "metadata": {},
   "outputs": [
    {
     "name": "stdout",
     "output_type": "stream",
     "text": [
      "2.0\n"
     ]
    }
   ],
   "source": [
    "variable_2 = 4 * 2\n",
    "print(variable)"
   ]
  },
  {
   "cell_type": "code",
   "execution_count": 8,
   "id": "0ca3c514-cfc0-43ae-b88b-9448fd6756fd",
   "metadata": {},
   "outputs": [
    {
     "name": "stdout",
     "output_type": "stream",
     "text": [
      "10.0\n"
     ]
    }
   ],
   "source": [
    "resultado = variable + variable_2\n",
    "print(resultado)"
   ]
  },
  {
   "cell_type": "raw",
   "id": "fe7121dd-6ae2-4670-8e77-b02e0d3db92d",
   "metadata": {},
   "source": []
  },
  {
   "cell_type": "raw",
   "id": "8cce442e-67ff-4f8f-97cd-1de5ebef61d4",
   "metadata": {},
   "source": []
  }
 ],
 "metadata": {
  "kernelspec": {
   "display_name": "Python 3 (ipykernel)",
   "language": "python",
   "name": "python3"
  },
  "language_info": {
   "codemirror_mode": {
    "name": "ipython",
    "version": 3
   },
   "file_extension": ".py",
   "mimetype": "text/x-python",
   "name": "python",
   "nbconvert_exporter": "python",
   "pygments_lexer": "ipython3",
   "version": "3.12.6"
  }
 },
 "nbformat": 4,
 "nbformat_minor": 5
}
